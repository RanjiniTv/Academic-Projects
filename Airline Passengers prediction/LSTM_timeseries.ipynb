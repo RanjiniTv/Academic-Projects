{
 "cells": [
  {
   "cell_type": "markdown",
   "metadata": {},
   "source": [
    "# Time Series Prediction with LSTM Recurrent Neural Networks in Python with Keras"
   ]
  },
  {
   "cell_type": "code",
   "execution_count": null,
   "metadata": {},
   "outputs": [],
   "source": [
    "## Import Packages"
   ]
  },
  {
   "cell_type": "code",
   "execution_count": 2,
   "metadata": {},
   "outputs": [],
   "source": [
    "import pandas\n",
    "import matplotlib.pyplot as plt\n",
    "import numpy\n",
    "import matplotlib.pyplot as plt\n",
    "import math\n",
    "from tensorflow.keras.models import Sequential\n",
    "from tensorflow.keras.layers import Dense\n",
    "from tensorflow.keras.layers import LSTM\n",
    "from sklearn.preprocessing import MinMaxScaler\n",
    "from sklearn.metrics import mean_squared_error"
   ]
  },
  {
   "cell_type": "markdown",
   "metadata": {},
   "source": [
    "## Explore Dataset"
   ]
  },
  {
   "cell_type": "code",
   "execution_count": 3,
   "metadata": {},
   "outputs": [
    {
     "data": {
      "image/png": "[encoded data removed]",
      "text/plain": [
       "<Figure size 432x288 with 1 Axes>"
      ]
     },
     "metadata": {
      "needs_background": "light"
     },
     "output_type": "display_data"
    }
   ],
   "source": [
    "dataset = pandas.read_csv('international-airline-passengers.csv', usecols=[1], engine='python', skipfooter=3)\n",
    "plt.plot(dataset)\n",
    "plt.show()"
   ]
  },
  {
   "cell_type": "markdown",
   "metadata": {},
   "source": [
    "## Fix random seed for reproducibility"
   ]
  },
  {
   "cell_type": "code",
   "execution_count": 4,
   "metadata": {},
   "outputs": [],
   "source": [
    "numpy.random.seed(7)"
   ]
  },
  {
   "cell_type": "markdown",
   "metadata": {},
   "source": [
    "## Load Dataset"
   ]
  },
  {
   "cell_type": "code",
   "execution_count": 5,
   "metadata": {},
   "outputs": [],
   "source": [
    "dataframe = pandas.read_csv('international-airline-passengers.csv', usecols=[1], engine='python', skipfooter=3)\n",
    "dataset = dataframe.values\n",
    "dataset = dataset.astype('float32')"
   ]
  },
  {
   "cell_type": "markdown",
   "metadata": {},
   "source": [
    "## Normalize the dataset"
   ]
  },
  {
   "cell_type": "code",
   "execution_count": 6,
   "metadata": {},
   "outputs": [],
   "source": [
    "scaler = MinMaxScaler(feature_range=(0, 1))\n",
    "dataset = scaler.fit_transform(dataset)"
   ]
  },
  {
   "cell_type": "raw",
   "metadata": {},
   "source": [
    "https://scikit-learn.org/stable/modules/generated/sklearn.preprocessing.MinMaxScaler.html\n",
    "\n",
    "X_std = (X - X.min(axis=0)) / (X.max(axis=0) - X.min(axis=0))\n",
    "X_scaled = X_std * (max - min) + min"
   ]
  },
  {
   "cell_type": "markdown",
   "metadata": {},
   "source": [
    "## Split into train and test sets"
   ]
  },
  {
   "cell_type": "code",
   "execution_count": 7,
   "metadata": {},
   "outputs": [
    {
     "name": "stdout",
     "output_type": "stream",
     "text": [
      "96 48\n"
     ]
    }
   ],
   "source": [
    "train_size = int(len(dataset) * 0.67)\n",
    "test_size = len(dataset) - train_size\n",
    "train, test = dataset[0:train_size,:], dataset[train_size:len(dataset),:]\n",
    "print(len(train), len(test))"
   ]
  },
  {
   "cell_type": "raw",
   "metadata": {},
   "source": [
    "dataset[0:train_size,:]\n",
    "\n",
    "[start at 0 till train_size (not including the limit), all elements in the other axis]\n",
    "\n",
    "x = [100, 101, 102, 103, 104, 105], x[1:4] -> [101, 102, 103]"
   ]
  },
  {
   "cell_type": "markdown",
   "metadata": {},
   "source": [
    "## Convert an array of values into a dataset matrix"
   ]
  },
  {
   "cell_type": "code",
   "execution_count": 8,
   "metadata": {},
   "outputs": [],
   "source": [
    "def create_dataset(dataset, look_back=1):\n",
    "    dataX, dataY = [], []\n",
    "    for i in range(len(dataset)-look_back-1):\n",
    "        a = dataset[i:(i+look_back), 0]\n",
    "        dataX.append(a)\n",
    "        dataY.append(dataset[i + look_back, 0])\n",
    "    return numpy.array(dataX), numpy.array(dataY)"
   ]
  },
  {
   "cell_type": "code",
   "execution_count": 11,
   "metadata": {},
   "outputs": [],
   "source": [
    "# reshape into X=t and Y=t+1\n",
    "look_back = 1\n",
    "trainX, trainY = create_dataset(train, look_back)\n",
    "testX, testY = create_dataset(test, look_back)"
   ]
  },
  {
   "cell_type": "code",
   "execution_count": 12,
   "metadata": {},
   "outputs": [
    {
     "data": {
      "text/plain": [
       "(94, 1)"
      ]
     },
     "execution_count": 12,
     "metadata": {},
     "output_type": "execute_result"
    }
   ],
   "source": [
    "trainX.shape"
   ]
  },
  {
   "cell_type": "code",
   "execution_count": 13,
   "metadata": {},
   "outputs": [],
   "source": [
    "# reshape input to be [samples, time steps, features] -> This is the required input dimensions for the LSTM.\n",
    "trainX = numpy.reshape(trainX, (trainX.shape[0], 1, trainX.shape[1]))\n",
    "testX = numpy.reshape(testX, (testX.shape[0], 1, testX.shape[1]))"
   ]
  },
  {
   "cell_type": "raw",
   "metadata": {},
   "source": [
    "x = numpy.array([[100, 1], [101, 1], [102,1], [103,1], [10,4], [1,5]])\n",
    "x.shape"
   ]
  },
  {
   "cell_type": "code",
   "execution_count": 14,
   "metadata": {},
   "outputs": [
    {
     "data": {
      "text/plain": [
       "(94, 1, 1)"
      ]
     },
     "execution_count": 14,
     "metadata": {},
     "output_type": "execute_result"
    }
   ],
   "source": [
    "trainX.shape"
   ]
  },
  {
   "cell_type": "raw",
   "metadata": {},
   "source": [
    "94 number of samples, 1 time step, 1 feature column size."
   ]
  },
  {
   "cell_type": "markdown",
   "metadata": {},
   "source": [
    "## Create and fit the LSTM network"
   ]
  },
  {
   "cell_type": "code",
   "execution_count": 15,
   "metadata": {},
   "outputs": [
    {
     "name": "stdout",
     "output_type": "stream",
     "text": [
      "Epoch 1/100\n",
      " - 1s - loss: 0.0434\n",
      "Epoch 2/100\n",
      " - 0s - loss: 0.0218\n",
      "Epoch 3/100\n",
      " - 0s - loss: 0.0159\n",
      "Epoch 4/100\n",
      " - 0s - loss: 0.0144\n",
      "Epoch 5/100\n",
      " - 0s - loss: 0.0136\n",
      "Epoch 6/100\n",
      " - 0s - loss: 0.0127\n",
      "Epoch 7/100\n",
      " - 0s - loss: 0.0119\n",
      "Epoch 8/100\n",
      " - 0s - loss: 0.0112\n",
      "Epoch 9/100\n",
      " - 0s - loss: 0.0104\n",
      "Epoch 10/100\n",
      " - 1s - loss: 0.0095\n",
      "Epoch 11/100\n",
      " - 0s - loss: 0.0086\n",
      "Epoch 12/100\n",
      " - 0s - loss: 0.0077\n",
      "Epoch 13/100\n",
      " - 0s - loss: 0.0069\n",
      "Epoch 14/100\n",
      " - 0s - loss: 0.0062\n",
      "Epoch 15/100\n",
      " - 1s - loss: 0.0054\n",
      "Epoch 16/100\n",
      " - 0s - loss: 0.0047\n",
      "Epoch 17/100\n",
      " - 0s - loss: 0.0041\n",
      "Epoch 18/100\n",
      " - 0s - loss: 0.0036\n",
      "Epoch 19/100\n",
      " - 0s - loss: 0.0032\n",
      "Epoch 20/100\n",
      " - 0s - loss: 0.0028\n",
      "Epoch 21/100\n",
      " - 0s - loss: 0.0026\n",
      "Epoch 22/100\n",
      " - 0s - loss: 0.0024\n",
      "Epoch 23/100\n",
      " - 0s - loss: 0.0022\n",
      "Epoch 24/100\n",
      " - 1s - loss: 0.0022\n",
      "Epoch 25/100\n",
      " - 0s - loss: 0.0021\n",
      "Epoch 26/100\n",
      " - 0s - loss: 0.0022\n",
      "Epoch 27/100\n",
      " - 0s - loss: 0.0021\n",
      "Epoch 28/100\n",
      " - 0s - loss: 0.0021\n",
      "Epoch 29/100\n",
      " - 0s - loss: 0.0021\n",
      "Epoch 30/100\n",
      " - 0s - loss: 0.0020\n",
      "Epoch 31/100\n",
      " - 0s - loss: 0.0021\n",
      "Epoch 32/100\n",
      " - 0s - loss: 0.0021\n",
      "Epoch 33/100\n",
      " - 0s - loss: 0.0021\n",
      "Epoch 34/100\n",
      " - 0s - loss: 0.0020\n",
      "Epoch 35/100\n",
      " - 0s - loss: 0.0020\n",
      "Epoch 36/100\n",
      " - 0s - loss: 0.0020\n",
      "Epoch 37/100\n",
      " - 0s - loss: 0.0021\n",
      "Epoch 38/100\n",
      " - 1s - loss: 0.0021\n",
      "Epoch 39/100\n",
      " - 1s - loss: 0.0020\n",
      "Epoch 40/100\n",
      " - 0s - loss: 0.0021\n",
      "Epoch 41/100\n",
      " - 0s - loss: 0.0021\n",
      "Epoch 42/100\n",
      " - 0s - loss: 0.0020\n",
      "Epoch 43/100\n",
      " - 0s - loss: 0.0021\n",
      "Epoch 44/100\n",
      " - 0s - loss: 0.0020\n",
      "Epoch 45/100\n",
      " - 0s - loss: 0.0021\n",
      "Epoch 46/100\n",
      " - 0s - loss: 0.0021\n",
      "Epoch 47/100\n",
      " - 0s - loss: 0.0021\n",
      "Epoch 48/100\n",
      " - 1s - loss: 0.0021\n",
      "Epoch 49/100\n",
      " - 1s - loss: 0.0021\n",
      "Epoch 50/100\n",
      " - 1s - loss: 0.0020\n",
      "Epoch 51/100\n",
      " - 1s - loss: 0.0020\n",
      "Epoch 52/100\n",
      " - 0s - loss: 0.0021\n",
      "Epoch 53/100\n",
      " - 0s - loss: 0.0020\n",
      "Epoch 54/100\n",
      " - 0s - loss: 0.0020\n",
      "Epoch 55/100\n",
      " - 0s - loss: 0.0021\n",
      "Epoch 56/100\n",
      " - 1s - loss: 0.0020\n",
      "Epoch 57/100\n",
      " - 0s - loss: 0.0020\n",
      "Epoch 58/100\n",
      " - 0s - loss: 0.0020\n",
      "Epoch 59/100\n",
      " - 0s - loss: 0.0021\n",
      "Epoch 60/100\n",
      " - 0s - loss: 0.0020\n",
      "Epoch 61/100\n",
      " - 0s - loss: 0.0020\n",
      "Epoch 62/100\n",
      " - 0s - loss: 0.0020\n",
      "Epoch 63/100\n",
      " - 0s - loss: 0.0020\n",
      "Epoch 64/100\n",
      " - 0s - loss: 0.0020\n",
      "Epoch 65/100\n",
      " - 1s - loss: 0.0020\n",
      "Epoch 66/100\n",
      " - 0s - loss: 0.0020\n",
      "Epoch 67/100\n",
      " - 0s - loss: 0.0021\n",
      "Epoch 68/100\n",
      " - 0s - loss: 0.0021\n",
      "Epoch 69/100\n",
      " - 0s - loss: 0.0020\n",
      "Epoch 70/100\n",
      " - 0s - loss: 0.0019\n",
      "Epoch 71/100\n",
      " - 0s - loss: 0.0021\n",
      "Epoch 72/100\n",
      " - 1s - loss: 0.0021\n",
      "Epoch 73/100\n",
      " - 0s - loss: 0.0020\n",
      "Epoch 74/100\n",
      " - 0s - loss: 0.0020\n",
      "Epoch 75/100\n",
      " - 0s - loss: 0.0020\n",
      "Epoch 76/100\n",
      " - 0s - loss: 0.0020\n",
      "Epoch 77/100\n",
      " - 0s - loss: 0.0020\n",
      "Epoch 78/100\n",
      " - 0s - loss: 0.0021\n",
      "Epoch 79/100\n",
      " - 1s - loss: 0.0020\n",
      "Epoch 80/100\n",
      " - 0s - loss: 0.0020\n",
      "Epoch 81/100\n",
      " - 0s - loss: 0.0020\n",
      "Epoch 82/100\n",
      " - 0s - loss: 0.0020\n",
      "Epoch 83/100\n",
      " - 0s - loss: 0.0020\n",
      "Epoch 84/100\n",
      " - 1s - loss: 0.0020\n",
      "Epoch 85/100\n",
      " - 1s - loss: 0.0021\n",
      "Epoch 86/100\n",
      " - 0s - loss: 0.0021\n",
      "Epoch 87/100\n",
      " - 1s - loss: 0.0020\n",
      "Epoch 88/100\n",
      " - 1s - loss: 0.0020\n",
      "Epoch 89/100\n",
      " - 0s - loss: 0.0020\n",
      "Epoch 90/100\n",
      " - 0s - loss: 0.0020\n",
      "Epoch 91/100\n",
      " - 0s - loss: 0.0020\n",
      "Epoch 92/100\n",
      " - 0s - loss: 0.0020\n",
      "Epoch 93/100\n",
      " - 0s - loss: 0.0020\n",
      "Epoch 94/100\n",
      " - 0s - loss: 0.0020\n",
      "Epoch 95/100\n",
      " - 0s - loss: 0.0020\n",
      "Epoch 96/100\n",
      " - 0s - loss: 0.0021\n",
      "Epoch 97/100\n",
      " - 0s - loss: 0.0020\n",
      "Epoch 98/100\n",
      " - 0s - loss: 0.0020\n",
      "Epoch 99/100\n",
      " - 0s - loss: 0.0020\n",
      "Epoch 100/100\n",
      " - 0s - loss: 0.0021\n"
     ]
    },
    {
     "data": {
      "text/plain": [
       "<tensorflow.python.keras.callbacks.History at 0x1a30149128>"
      ]
     },
     "execution_count": 15,
     "metadata": {},
     "output_type": "execute_result"
    }
   ],
   "source": [
    "model1 = Sequential()\n",
    "model1.add(LSTM(4, input_shape=(1, look_back)))\n",
    "model1.add(Dense(1))\n",
    "model1.compile(loss='mean_squared_error', optimizer='adam')\n",
    "model1.fit(trainX, trainY, epochs=100, batch_size=1, verbose=2)"
   ]
  },
  {
   "cell_type": "markdown",
   "metadata": {},
   "source": [
    "## Test the model"
   ]
  },
  {
   "cell_type": "code",
   "execution_count": 17,
   "metadata": {},
   "outputs": [],
   "source": [
    "# make predictions (Model inference)\n",
    "trainPredict = model1.predict(trainX)\n",
    "testPredict = model1.predict(testX)"
   ]
  },
  {
   "cell_type": "code",
   "execution_count": 18,
   "metadata": {},
   "outputs": [
    {
     "name": "stdout",
     "output_type": "stream",
     "text": [
      "Train Score: 22.81 RMSE\n",
      "Test Score: 47.76 RMSE\n"
     ]
    }
   ],
   "source": [
    "# invert predictions(finding actual values.not normalized)\n",
    "trainPredict = scaler.inverse_transform(trainPredict)\n",
    "trainY = scaler.inverse_transform([trainY])\n",
    "testPredict = scaler.inverse_transform(testPredict)\n",
    "testY = scaler.inverse_transform([testY])\n",
    "# calculate root mean squared error\n",
    "trainScore = math.sqrt(mean_squared_error(trainY[0], trainPredict[:,0]))\n",
    "print('Train Score: %.2f RMSE' % (trainScore))\n",
    "testScore = math.sqrt(mean_squared_error(testY[0], testPredict[:,0]))\n",
    "print('Test Score: %.2f RMSE' % (testScore))"
   ]
  },
  {
   "cell_type": "markdown",
   "metadata": {},
   "source": [
    "## Plot Results"
   ]
  },
  {
   "cell_type": "code",
   "execution_count": 19,
   "metadata": {},
   "outputs": [
    {
     "data": {
      "image/png": "[encoded data removed]",
      "text/plain": [
       "<Figure size 432x288 with 1 Axes>"
      ]
     },
     "metadata": {
      "needs_background": "light"
     },
     "output_type": "display_data"
    }
   ],
   "source": [
    "# shift train predictions for plotting\n",
    "trainPredictPlot = numpy.empty_like(dataset)\n",
    "trainPredictPlot[:, :] = numpy.nan\n",
    "trainPredictPlot[look_back:len(trainPredict)+look_back, :] = trainPredict\n",
    "# shift test predictions for plotting\n",
    "testPredictPlot = numpy.empty_like(dataset)\n",
    "testPredictPlot[:, :] = numpy.nan\n",
    "testPredictPlot[len(trainPredict)+(look_back*2)+1:len(dataset)-1, :] = testPredict\n",
    "# plot baseline and predictions\n",
    "plt.plot(scaler.inverse_transform(dataset))\n",
    "plt.plot(trainPredictPlot)\n",
    "plt.plot(testPredictPlot)\n",
    "plt.show()"
   ]
  },
  {
   "cell_type": "markdown",
   "metadata": {},
   "source": [
    "# Window Method (Lookback = 3)"
   ]
  },
  {
   "cell_type": "code",
   "execution_count": 20,
   "metadata": {},
   "outputs": [],
   "source": [
    "# reshape into X=t and Y=t+1\n",
    "look_back = 3\n",
    "trainX, trainY = create_dataset(train, look_back)\n",
    "testX, testY = create_dataset(test, look_back)"
   ]
  },
  {
   "cell_type": "code",
   "execution_count": 21,
   "metadata": {},
   "outputs": [
    {
     "data": {
      "text/plain": [
       "(92, 3)"
      ]
     },
     "execution_count": 21,
     "metadata": {},
     "output_type": "execute_result"
    }
   ],
   "source": [
    "trainX.shape"
   ]
  },
  {
   "cell_type": "code",
   "execution_count": 22,
   "metadata": {},
   "outputs": [],
   "source": [
    "# reshape input to be [samples, time steps, features] -> This is the required input dimensions for the LSTM.\n",
    "trainX = numpy.reshape(trainX, (trainX.shape[0], 1, trainX.shape[1]))\n",
    "testX = numpy.reshape(testX, (testX.shape[0], 1, testX.shape[1]))"
   ]
  },
  {
   "cell_type": "code",
   "execution_count": 23,
   "metadata": {},
   "outputs": [
    {
     "data": {
      "text/plain": [
       "(92, 1, 3)"
      ]
     },
     "execution_count": 23,
     "metadata": {},
     "output_type": "execute_result"
    }
   ],
   "source": [
    "trainX.shape"
   ]
  },
  {
   "cell_type": "raw",
   "metadata": {},
   "source": [
    "94 number of samples, 1 time step, 1 feature column size."
   ]
  },
  {
   "cell_type": "markdown",
   "metadata": {},
   "source": [
    "## Create and fit the LSTM network"
   ]
  },
  {
   "cell_type": "code",
   "execution_count": 20,
   "metadata": {},
   "outputs": [
    {
     "name": "stdout",
     "output_type": "stream",
     "text": [
      "Epoch 1/100\n",
      " - 1s - loss: 0.0274\n",
      "Epoch 2/100\n",
      " - 0s - loss: 0.0098\n",
      "Epoch 3/100\n",
      " - 0s - loss: 0.0077\n",
      "Epoch 4/100\n",
      " - 0s - loss: 0.0068\n",
      "Epoch 5/100\n",
      " - 0s - loss: 0.0059\n",
      "Epoch 6/100\n",
      " - 0s - loss: 0.0051\n",
      "Epoch 7/100\n",
      " - 0s - loss: 0.0046\n",
      "Epoch 8/100\n",
      " - 0s - loss: 0.0042\n",
      "Epoch 9/100\n",
      " - 0s - loss: 0.0039\n",
      "Epoch 10/100\n",
      " - 0s - loss: 0.0038\n",
      "Epoch 11/100\n",
      " - 0s - loss: 0.0034\n",
      "Epoch 12/100\n",
      " - 0s - loss: 0.0034\n",
      "Epoch 13/100\n",
      " - 0s - loss: 0.0034\n",
      "Epoch 14/100\n",
      " - 0s - loss: 0.0032\n",
      "Epoch 15/100\n",
      " - 0s - loss: 0.0032\n",
      "Epoch 16/100\n",
      " - 0s - loss: 0.0031\n",
      "Epoch 17/100\n",
      " - 0s - loss: 0.0031\n",
      "Epoch 18/100\n",
      " - 0s - loss: 0.0032\n",
      "Epoch 19/100\n",
      " - 0s - loss: 0.0031\n",
      "Epoch 20/100\n",
      " - 0s - loss: 0.0031\n",
      "Epoch 21/100\n",
      " - 0s - loss: 0.0030\n",
      "Epoch 22/100\n",
      " - 0s - loss: 0.0030\n",
      "Epoch 23/100\n",
      " - 0s - loss: 0.0029\n",
      "Epoch 24/100\n",
      " - 0s - loss: 0.0029\n",
      "Epoch 25/100\n",
      " - 0s - loss: 0.0030\n",
      "Epoch 26/100\n",
      " - 0s - loss: 0.0029\n",
      "Epoch 27/100\n",
      " - 0s - loss: 0.0029\n",
      "Epoch 28/100\n",
      " - 0s - loss: 0.0028\n",
      "Epoch 29/100\n",
      " - 0s - loss: 0.0028\n",
      "Epoch 30/100\n",
      " - 0s - loss: 0.0027\n",
      "Epoch 31/100\n",
      " - 0s - loss: 0.0028\n",
      "Epoch 32/100\n",
      " - 0s - loss: 0.0027\n",
      "Epoch 33/100\n",
      " - 0s - loss: 0.0027\n",
      "Epoch 34/100\n",
      " - 0s - loss: 0.0027\n",
      "Epoch 35/100\n",
      " - 0s - loss: 0.0027\n",
      "Epoch 36/100\n",
      " - 0s - loss: 0.0026\n",
      "Epoch 37/100\n",
      " - 0s - loss: 0.0026\n",
      "Epoch 38/100\n",
      " - 0s - loss: 0.0026\n",
      "Epoch 39/100\n",
      " - 0s - loss: 0.0026\n",
      "Epoch 40/100\n",
      " - 0s - loss: 0.0026\n",
      "Epoch 41/100\n",
      " - 0s - loss: 0.0027\n",
      "Epoch 42/100\n",
      " - 0s - loss: 0.0026\n",
      "Epoch 43/100\n",
      " - 0s - loss: 0.0025\n",
      "Epoch 44/100\n",
      " - 0s - loss: 0.0025\n",
      "Epoch 45/100\n",
      " - 0s - loss: 0.0025\n",
      "Epoch 46/100\n",
      " - 0s - loss: 0.0025\n",
      "Epoch 47/100\n",
      " - 0s - loss: 0.0025\n",
      "Epoch 48/100\n",
      " - 0s - loss: 0.0024\n",
      "Epoch 49/100\n",
      " - 0s - loss: 0.0024\n",
      "Epoch 50/100\n",
      " - 0s - loss: 0.0024\n",
      "Epoch 51/100\n",
      " - 0s - loss: 0.0024\n",
      "Epoch 52/100\n",
      " - 0s - loss: 0.0023\n",
      "Epoch 53/100\n",
      " - 0s - loss: 0.0023\n",
      "Epoch 54/100\n",
      " - 0s - loss: 0.0023\n",
      "Epoch 55/100\n",
      " - 0s - loss: 0.0024\n",
      "Epoch 56/100\n",
      " - 0s - loss: 0.0023\n",
      "Epoch 57/100\n",
      " - 0s - loss: 0.0022\n",
      "Epoch 58/100\n",
      " - 0s - loss: 0.0023\n",
      "Epoch 59/100\n",
      " - 0s - loss: 0.0023\n",
      "Epoch 60/100\n",
      " - 0s - loss: 0.0023\n",
      "Epoch 61/100\n",
      " - 0s - loss: 0.0023\n",
      "Epoch 62/100\n",
      " - 0s - loss: 0.0023\n",
      "Epoch 63/100\n",
      " - 0s - loss: 0.0023\n",
      "Epoch 64/100\n",
      " - 0s - loss: 0.0022\n",
      "Epoch 65/100\n",
      " - 0s - loss: 0.0022\n",
      "Epoch 66/100\n",
      " - 0s - loss: 0.0022\n",
      "Epoch 67/100\n",
      " - 0s - loss: 0.0023\n",
      "Epoch 68/100\n",
      " - 0s - loss: 0.0022\n",
      "Epoch 69/100\n",
      " - 0s - loss: 0.0021\n",
      "Epoch 70/100\n",
      " - 0s - loss: 0.0022\n",
      "Epoch 71/100\n",
      " - 0s - loss: 0.0021\n",
      "Epoch 72/100\n",
      " - 0s - loss: 0.0023\n",
      "Epoch 73/100\n",
      " - 0s - loss: 0.0023\n",
      "Epoch 74/100\n",
      " - 0s - loss: 0.0022\n",
      "Epoch 75/100\n",
      " - 0s - loss: 0.0022\n",
      "Epoch 76/100\n",
      " - 0s - loss: 0.0021\n",
      "Epoch 77/100\n",
      " - 0s - loss: 0.0021\n",
      "Epoch 78/100\n",
      " - 0s - loss: 0.0021\n",
      "Epoch 79/100\n",
      " - 0s - loss: 0.0021\n",
      "Epoch 80/100\n",
      " - 0s - loss: 0.0020\n",
      "Epoch 81/100\n",
      " - 0s - loss: 0.0021\n",
      "Epoch 82/100\n",
      " - 0s - loss: 0.0021\n",
      "Epoch 83/100\n",
      " - 0s - loss: 0.0020\n",
      "Epoch 84/100\n",
      " - 0s - loss: 0.0021\n",
      "Epoch 85/100\n",
      " - 0s - loss: 0.0021\n",
      "Epoch 86/100\n",
      " - 0s - loss: 0.0021\n",
      "Epoch 87/100\n",
      " - 0s - loss: 0.0021\n",
      "Epoch 88/100\n",
      " - 0s - loss: 0.0020\n",
      "Epoch 89/100\n",
      " - 0s - loss: 0.0021\n",
      "Epoch 90/100\n",
      " - 0s - loss: 0.0020\n",
      "Epoch 91/100\n",
      " - 0s - loss: 0.0020\n",
      "Epoch 92/100\n",
      " - 0s - loss: 0.0021\n",
      "Epoch 93/100\n",
      " - 0s - loss: 0.0021\n",
      "Epoch 94/100\n",
      " - 0s - loss: 0.0020\n",
      "Epoch 95/100\n",
      " - 0s - loss: 0.0020\n",
      "Epoch 96/100\n",
      " - 0s - loss: 0.0020\n",
      "Epoch 97/100\n",
      " - 0s - loss: 0.0020\n",
      "Epoch 98/100\n",
      " - 0s - loss: 0.0020\n",
      "Epoch 99/100\n",
      " - 0s - loss: 0.0020\n",
      "Epoch 100/100\n",
      " - 0s - loss: 0.0020\n"
     ]
    },
    {
     "data": {
      "text/plain": [
       "<tensorflow.python.keras.callbacks.History at 0x1a2bb6c358>"
      ]
     },
     "execution_count": 20,
     "metadata": {},
     "output_type": "execute_result"
    }
   ],
   "source": [
    "model2 = Sequential()\n",
    "model2.add(LSTM(4, input_shape=(1, look_back)))\n",
    "model2.add(Dense(1))\n",
    "model2.compile(loss='mean_squared_error', optimizer='adam')\n",
    "model2.fit(trainX, trainY, epochs=100, batch_size=1, verbose=2)"
   ]
  },
  {
   "cell_type": "markdown",
   "metadata": {},
   "source": [
    "## Test the model"
   ]
  },
  {
   "cell_type": "code",
   "execution_count": 21,
   "metadata": {},
   "outputs": [],
   "source": [
    "# make predictions (Model inference)\n",
    "trainPredict = model2.predict(trainX)\n",
    "testPredict = model2.predict(testX)"
   ]
  },
  {
   "cell_type": "code",
   "execution_count": 22,
   "metadata": {},
   "outputs": [
    {
     "name": "stdout",
     "output_type": "stream",
     "text": [
      "Train Score: 22.99 RMSE\n",
      "Test Score: 54.70 RMSE\n"
     ]
    }
   ],
   "source": [
    "# invert predictions\n",
    "trainPredict = scaler.inverse_transform(trainPredict)\n",
    "trainY = scaler.inverse_transform([trainY])\n",
    "testPredict = scaler.inverse_transform(testPredict)\n",
    "testY = scaler.inverse_transform([testY])\n",
    "# calculate root mean squared error\n",
    "trainScore = math.sqrt(mean_squared_error(trainY[0], trainPredict[:,0]))\n",
    "print('Train Score: %.2f RMSE' % (trainScore))\n",
    "testScore = math.sqrt(mean_squared_error(testY[0], testPredict[:,0]))\n",
    "print('Test Score: %.2f RMSE' % (testScore))"
   ]
  },
  {
   "cell_type": "markdown",
   "metadata": {},
   "source": [
    "## Plot Results"
   ]
  },
  {
   "cell_type": "code",
   "execution_count": 23,
   "metadata": {},
   "outputs": [
    {
     "data": {
      "image/png": "[encoded data removed]",
      "text/plain": [
       "<Figure size 432x288 with 1 Axes>"
      ]
     },
     "metadata": {
      "needs_background": "light"
     },
     "output_type": "display_data"
    }
   ],
   "source": [
    "# shift train predictions for plotting\n",
    "trainPredictPlot = numpy.empty_like(dataset)\n",
    "trainPredictPlot[:, :] = numpy.nan\n",
    "trainPredictPlot[look_back:len(trainPredict)+look_back, :] = trainPredict\n",
    "# shift test predictions for plotting\n",
    "testPredictPlot = numpy.empty_like(dataset)\n",
    "testPredictPlot[:, :] = numpy.nan\n",
    "testPredictPlot[len(trainPredict)+(look_back*2)+1:len(dataset)-1, :] = testPredict\n",
    "# plot baseline and predictions\n",
    "plt.plot(scaler.inverse_transform(dataset))\n",
    "plt.plot(trainPredictPlot)\n",
    "plt.plot(testPredictPlot)\n",
    "plt.show()"
   ]
  },
  {
   "cell_type": "markdown",
   "metadata": {},
   "source": [
    "# Time Step Method (timestep = 3)"
   ]
  },
  {
   "cell_type": "code",
   "execution_count": 24,
   "metadata": {},
   "outputs": [],
   "source": [
    "# reshape into X=t and Y=t+1\n",
    "look_back = 3\n",
    "trainX, trainY = create_dataset(train, look_back)\n",
    "testX, testY = create_dataset(test, look_back)"
   ]
  },
  {
   "cell_type": "code",
   "execution_count": 25,
   "metadata": {},
   "outputs": [
    {
     "data": {
      "text/plain": [
       "(92, 3)"
      ]
     },
     "execution_count": 25,
     "metadata": {},
     "output_type": "execute_result"
    }
   ],
   "source": [
    "trainX.shape"
   ]
  },
  {
   "cell_type": "code",
   "execution_count": 26,
   "metadata": {},
   "outputs": [],
   "source": [
    "# reshape input to be [samples, time steps, features] -> This is the required input dimensions for the LSTM.\n",
    "trainX = numpy.reshape(trainX, (trainX.shape[0], trainX.shape[1], 1))\n",
    "testX = numpy.reshape(testX, (testX.shape[0], testX.shape[1], 1))"
   ]
  },
  {
   "cell_type": "code",
   "execution_count": 27,
   "metadata": {},
   "outputs": [
    {
     "data": {
      "text/plain": [
       "(92, 3, 1)"
      ]
     },
     "execution_count": 27,
     "metadata": {},
     "output_type": "execute_result"
    }
   ],
   "source": [
    "trainX.shape"
   ]
  },
  {
   "cell_type": "raw",
   "metadata": {},
   "source": [
    "92 number of samples, 3 time step, 1 feature column size."
   ]
  },
  {
   "cell_type": "markdown",
   "metadata": {},
   "source": [
    "## Create and fit the LSTM network"
   ]
  },
  {
   "cell_type": "code",
   "execution_count": 28,
   "metadata": {},
   "outputs": [
    {
     "name": "stdout",
     "output_type": "stream",
     "text": [
      "Epoch 1/100\n",
      " - 1s - loss: 0.0480\n",
      "Epoch 2/100\n",
      " - 0s - loss: 0.0175\n",
      "Epoch 3/100\n",
      " - 0s - loss: 0.0143\n",
      "Epoch 4/100\n",
      " - 0s - loss: 0.0124\n",
      "Epoch 5/100\n",
      " - 0s - loss: 0.0107\n",
      "Epoch 6/100\n",
      " - 0s - loss: 0.0093\n",
      "Epoch 7/100\n",
      " - 0s - loss: 0.0079\n",
      "Epoch 8/100\n",
      " - 0s - loss: 0.0068\n",
      "Epoch 9/100\n",
      " - 1s - loss: 0.0059\n",
      "Epoch 10/100\n",
      " - 1s - loss: 0.0052\n",
      "Epoch 11/100\n",
      " - 1s - loss: 0.0049\n",
      "Epoch 12/100\n",
      " - 1s - loss: 0.0044\n",
      "Epoch 13/100\n",
      " - 1s - loss: 0.0042\n",
      "Epoch 14/100\n",
      " - 1s - loss: 0.0040\n",
      "Epoch 15/100\n",
      " - 1s - loss: 0.0039\n",
      "Epoch 16/100\n",
      " - 1s - loss: 0.0039\n",
      "Epoch 17/100\n",
      " - 1s - loss: 0.0038\n",
      "Epoch 18/100\n",
      " - 1s - loss: 0.0038\n",
      "Epoch 19/100\n",
      " - 1s - loss: 0.0038\n",
      "Epoch 20/100\n",
      " - 1s - loss: 0.0038\n",
      "Epoch 21/100\n",
      " - 2s - loss: 0.0037\n",
      "Epoch 22/100\n",
      " - 1s - loss: 0.0037\n",
      "Epoch 23/100\n",
      " - 1s - loss: 0.0039\n",
      "Epoch 24/100\n",
      " - 1s - loss: 0.0037\n",
      "Epoch 25/100\n",
      " - 1s - loss: 0.0036\n",
      "Epoch 26/100\n",
      " - 2s - loss: 0.0036\n",
      "Epoch 27/100\n",
      " - 1s - loss: 0.0037\n",
      "Epoch 28/100\n",
      " - 1s - loss: 0.0037\n",
      "Epoch 29/100\n",
      " - 1s - loss: 0.0036\n",
      "Epoch 30/100\n",
      " - 1s - loss: 0.0037\n",
      "Epoch 31/100\n",
      " - 2s - loss: 0.0036\n",
      "Epoch 32/100\n",
      " - 1s - loss: 0.0036\n",
      "Epoch 33/100\n",
      " - 1s - loss: 0.0036\n",
      "Epoch 34/100\n",
      " - 1s - loss: 0.0036\n",
      "Epoch 35/100\n",
      " - 1s - loss: 0.0035\n",
      "Epoch 36/100\n",
      " - 0s - loss: 0.0036\n",
      "Epoch 37/100\n",
      " - 0s - loss: 0.0035\n",
      "Epoch 38/100\n",
      " - 1s - loss: 0.0036\n",
      "Epoch 39/100\n",
      " - 0s - loss: 0.0035\n",
      "Epoch 40/100\n",
      " - 0s - loss: 0.0034\n",
      "Epoch 41/100\n",
      " - 0s - loss: 0.0035\n",
      "Epoch 42/100\n",
      " - 0s - loss: 0.0034\n",
      "Epoch 43/100\n",
      " - 0s - loss: 0.0034\n",
      "Epoch 44/100\n",
      " - 0s - loss: 0.0035\n",
      "Epoch 45/100\n",
      " - 0s - loss: 0.0034\n",
      "Epoch 46/100\n",
      " - 0s - loss: 0.0034\n",
      "Epoch 47/100\n",
      " - 0s - loss: 0.0034\n",
      "Epoch 48/100\n",
      " - 0s - loss: 0.0033\n",
      "Epoch 49/100\n",
      " - 1s - loss: 0.0032\n",
      "Epoch 50/100\n",
      " - 0s - loss: 0.0033\n",
      "Epoch 51/100\n",
      " - 0s - loss: 0.0033\n",
      "Epoch 52/100\n",
      " - 0s - loss: 0.0033\n",
      "Epoch 53/100\n",
      " - 0s - loss: 0.0033\n",
      "Epoch 54/100\n",
      " - 0s - loss: 0.0033\n",
      "Epoch 55/100\n",
      " - 1s - loss: 0.0033\n",
      "Epoch 56/100\n",
      " - 1s - loss: 0.0034\n",
      "Epoch 57/100\n",
      " - 1s - loss: 0.0032\n",
      "Epoch 58/100\n",
      " - 1s - loss: 0.0033\n",
      "Epoch 59/100\n",
      " - 1s - loss: 0.0032\n",
      "Epoch 60/100\n",
      " - 1s - loss: 0.0031\n",
      "Epoch 61/100\n",
      " - 1s - loss: 0.0032\n",
      "Epoch 62/100\n",
      " - 0s - loss: 0.0032\n",
      "Epoch 63/100\n",
      " - 1s - loss: 0.0031\n",
      "Epoch 64/100\n",
      " - 1s - loss: 0.0031\n",
      "Epoch 65/100\n",
      " - 1s - loss: 0.0033\n",
      "Epoch 66/100\n",
      " - 1s - loss: 0.0031\n",
      "Epoch 67/100\n",
      " - 1s - loss: 0.0030\n",
      "Epoch 68/100\n",
      " - 1s - loss: 0.0031\n",
      "Epoch 69/100\n",
      " - 1s - loss: 0.0031\n",
      "Epoch 70/100\n",
      " - 1s - loss: 0.0030\n",
      "Epoch 71/100\n",
      " - 0s - loss: 0.0029\n",
      "Epoch 72/100\n",
      " - 1s - loss: 0.0030\n",
      "Epoch 73/100\n",
      " - 1s - loss: 0.0029\n",
      "Epoch 74/100\n",
      " - 1s - loss: 0.0029\n",
      "Epoch 75/100\n",
      " - 0s - loss: 0.0029\n",
      "Epoch 76/100\n",
      " - 0s - loss: 0.0030\n",
      "Epoch 77/100\n",
      " - 0s - loss: 0.0028\n",
      "Epoch 78/100\n",
      " - 0s - loss: 0.0028\n",
      "Epoch 79/100\n",
      " - 0s - loss: 0.0028\n",
      "Epoch 80/100\n",
      " - 1s - loss: 0.0027\n",
      "Epoch 81/100\n",
      " - 1s - loss: 0.0028\n",
      "Epoch 82/100\n",
      " - 0s - loss: 0.0027\n",
      "Epoch 83/100\n",
      " - 0s - loss: 0.0027\n",
      "Epoch 84/100\n",
      " - 1s - loss: 0.0026\n",
      "Epoch 85/100\n",
      " - 0s - loss: 0.0026\n",
      "Epoch 86/100\n",
      " - 1s - loss: 0.0025\n",
      "Epoch 87/100\n",
      " - 1s - loss: 0.0026\n",
      "Epoch 88/100\n",
      " - 1s - loss: 0.0025\n",
      "Epoch 89/100\n",
      " - 1s - loss: 0.0024\n",
      "Epoch 90/100\n",
      " - 0s - loss: 0.0024\n",
      "Epoch 91/100\n",
      " - 0s - loss: 0.0023\n",
      "Epoch 92/100\n",
      " - 0s - loss: 0.0023\n",
      "Epoch 93/100\n",
      " - 0s - loss: 0.0023\n",
      "Epoch 94/100\n",
      " - 0s - loss: 0.0022\n",
      "Epoch 95/100\n",
      " - 0s - loss: 0.0022\n",
      "Epoch 96/100\n",
      " - 0s - loss: 0.0021\n",
      "Epoch 97/100\n",
      " - 0s - loss: 0.0021\n",
      "Epoch 98/100\n",
      " - 1s - loss: 0.0021\n",
      "Epoch 99/100\n",
      " - 1s - loss: 0.0021\n",
      "Epoch 100/100\n",
      " - 1s - loss: 0.0021\n"
     ]
    },
    {
     "data": {
      "text/plain": [
       "<tensorflow.python.keras.callbacks.History at 0x1a2c8a0d68>"
      ]
     },
     "execution_count": 28,
     "metadata": {},
     "output_type": "execute_result"
    }
   ],
   "source": [
    "model3 = Sequential()\n",
    "model3.add(LSTM(4, input_shape=(look_back, 1)))\n",
    "model3.add(Dense(1))\n",
    "model3.compile(loss='mean_squared_error', optimizer='adam')\n",
    "model3.fit(trainX, trainY, epochs=100, batch_size=1, verbose=2)"
   ]
  },
  {
   "cell_type": "markdown",
   "metadata": {},
   "source": [
    "## Test the model"
   ]
  },
  {
   "cell_type": "code",
   "execution_count": 29,
   "metadata": {},
   "outputs": [],
   "source": [
    "# make predictions (Model inference)\n",
    "trainPredict = model3.predict(trainX)\n",
    "testPredict = model3.predict(testX)"
   ]
  },
  {
   "cell_type": "code",
   "execution_count": 30,
   "metadata": {},
   "outputs": [
    {
     "name": "stdout",
     "output_type": "stream",
     "text": [
      "Train Score: 22.95 RMSE\n",
      "Test Score: 52.36 RMSE\n"
     ]
    }
   ],
   "source": [
    "# invert predictions\n",
    "trainPredict = scaler.inverse_transform(trainPredict)\n",
    "trainY = scaler.inverse_transform([trainY])\n",
    "testPredict = scaler.inverse_transform(testPredict)\n",
    "testY = scaler.inverse_transform([testY])\n",
    "# calculate root mean squared error\n",
    "trainScore = math.sqrt(mean_squared_error(trainY[0], trainPredict[:,0]))\n",
    "print('Train Score: %.2f RMSE' % (trainScore))\n",
    "testScore = math.sqrt(mean_squared_error(testY[0], testPredict[:,0]))\n",
    "print('Test Score: %.2f RMSE' % (testScore))"
   ]
  },
  {
   "cell_type": "markdown",
   "metadata": {},
   "source": [
    "## Plot Results"
   ]
  },
  {
   "cell_type": "code",
   "execution_count": 31,
   "metadata": {},
   "outputs": [
    {
     "data": {
      "image/png": "[encoded data removed]",
      "text/plain": [
       "<Figure size 432x288 with 1 Axes>"
      ]
     },
     "metadata": {
      "needs_background": "light"
     },
     "output_type": "display_data"
    }
   ],
   "source": [
    "# shift train predictions for plotting\n",
    "trainPredictPlot = numpy.empty_like(dataset)\n",
    "trainPredictPlot[:, :] = numpy.nan\n",
    "trainPredictPlot[look_back:len(trainPredict)+look_back, :] = trainPredict\n",
    "# shift test predictions for plotting\n",
    "testPredictPlot = numpy.empty_like(dataset)\n",
    "testPredictPlot[:, :] = numpy.nan\n",
    "testPredictPlot[len(trainPredict)+(look_back*2)+1:len(dataset)-1, :] = testPredict\n",
    "# plot baseline and predictions\n",
    "plt.plot(scaler.inverse_transform(dataset))\n",
    "plt.plot(trainPredictPlot)\n",
    "plt.plot(testPredictPlot)\n",
    "plt.show()"
   ]
  },
  {
   "cell_type": "code",
   "execution_count": null,
   "metadata": {},
   "outputs": [],
   "source": []
  },
  {
   "cell_type": "code",
   "execution_count": null,
   "metadata": {},
   "outputs": [],
   "source": []
  },
  {
   "cell_type": "code",
   "execution_count": null,
   "metadata": {},
   "outputs": [],
   "source": []
  },
  {
   "cell_type": "code",
   "execution_count": null,
   "metadata": {},
   "outputs": [],
   "source": []
  },
  {
   "cell_type": "code",
   "execution_count": null,
   "metadata": {},
   "outputs": [],
   "source": []
  }
 ],
 "metadata": {
  "kernelspec": {
   "display_name": "Python 3",
   "language": "python",
   "name": "python3"
  },
  "language_info": {
   "codemirror_mode": {
    "name": "ipython",
    "version": 3
   },
   "file_extension": ".py",
   "mimetype": "text/x-python",
   "name": "python",
   "nbconvert_exporter": "python",
   "pygments_lexer": "ipython3",
   "version": "3.6.8"
  }
 },
 "nbformat": 4,
 "nbformat_minor": 2
}
